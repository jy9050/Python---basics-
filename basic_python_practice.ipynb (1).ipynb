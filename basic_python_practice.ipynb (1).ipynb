{
 "cells": [
  {
   "cell_type": "code",
   "execution_count": 1,
   "id": "e210a834-b3bd-47b6-b89e-c00de1089042",
   "metadata": {},
   "outputs": [
    {
     "name": "stdout",
     "output_type": "stream",
     "text": [
      "Hello,Data Science World!\n"
     ]
    }
   ],
   "source": [
    "# Basic Python  Practice\n",
    "# Author: HJ\n",
    "\n",
    "#1.Print statement\n",
    "print(\"Hello,Data Science World!\")\n",
    "\n"
   ]
  },
  {
   "cell_type": "code",
   "execution_count": 2,
   "id": "58bce2e0-6678-42e7-aeff-905b9d00042e",
   "metadata": {},
   "outputs": [
    {
     "name": "stdout",
     "output_type": "stream",
     "text": [
      "My name is HJ and i am  22 years old.\n"
     ]
    }
   ],
   "source": [
    "#2. Variables\n",
    "name=\"HJ\"\n",
    "age=22\n",
    "print(\"My name is\", name,\"and i am \", age, \"years old.\")"
   ]
  },
  {
   "cell_type": "code",
   "execution_count": 4,
   "id": "958e7ae5-8105-4455-b971-a7abc1377533",
   "metadata": {},
   "outputs": [
    {
     "name": "stdout",
     "output_type": "stream",
     "text": [
      "<class 'int'> <class 'float'> <class 'str'>\n"
     ]
    }
   ],
   "source": [
    "#3. Data Types\n",
    "x = 10         #integer\n",
    "y = 3.5        #float\n",
    "z = \"python\"   #string\n",
    "print(type(x), type(y),type(z))\n"
   ]
  },
  {
   "cell_type": "code",
   "execution_count": 5,
   "id": "cb21912b-2423-44cc-a0e4-9e2fb3af4532",
   "metadata": {},
   "outputs": [
    {
     "name": "stdout",
     "output_type": "stream",
     "text": [
      "Numbers: [10, 20, 30, 40, 50]\n",
      "First element: 10\n"
     ]
    }
   ],
   "source": [
    "#4 lists\n",
    "numbers = [10,20,30,40,50]\n",
    "print(\"Numbers:\", numbers)\n",
    "print(\"First element:\",numbers[0])\n"
   ]
  },
  {
   "cell_type": "code",
   "execution_count": 6,
   "id": "3348f635-844d-4b7f-ba94-da4a250c4957",
   "metadata": {},
   "outputs": [
    {
     "name": "stdout",
     "output_type": "stream",
     "text": [
      "Value: 10\n",
      "Value: 20\n",
      "Value: 30\n",
      "Value: 40\n",
      "Value: 50\n"
     ]
    }
   ],
   "source": [
    "#5. Loops\n",
    "for i in numbers:\n",
    "       print(\"Value:\",i)"
   ]
  },
  {
   "cell_type": "code",
   "execution_count": 18,
   "id": "a5923693-ca95-4ac8-aad5-fc29655d3ea5",
   "metadata": {},
   "outputs": [
    {
     "name": "stdout",
     "output_type": "stream",
     "text": [
      "Square of 5: 25\n"
     ]
    }
   ],
   "source": [
    "#6. Functions\n",
    "def square(n):\n",
    "    return n  *  n\n",
    "    \n",
    "print(\"Square of 5:\",square(5))"
   ]
  },
  {
   "cell_type": "code",
   "execution_count": 22,
   "id": "c9676c4b-643e-440b-94cf-084ac782fb08",
   "metadata": {},
   "outputs": [
    {
     "name": "stdout",
     "output_type": "stream",
     "text": [
      "HJ is learining Data Science\n"
     ]
    }
   ],
   "source": [
    "#7. Dictionary\n",
    "student= {\"name\": \"HJ\",\"age\": 22,\"course\": \"Data Science\"}\n",
    "print(student[\"name\"],  \"is learining\",student[\"course\"])"
   ]
  },
  {
   "cell_type": "code",
   "execution_count": null,
   "id": "1a189c4f-3dfd-4632-b4e5-60f5a8169dc5",
   "metadata": {},
   "outputs": [],
   "source": []
  },
  {
   "cell_type": "code",
   "execution_count": null,
   "id": "75710596-8632-475e-b925-8a3ccfe20548",
   "metadata": {},
   "outputs": [],
   "source": []
  }
 ],
 "metadata": {
  "kernelspec": {
   "display_name": "Python [conda env:base] *",
   "language": "python",
   "name": "conda-base-py"
  },
  "language_info": {
   "codemirror_mode": {
    "name": "ipython",
    "version": 3
   },
   "file_extension": ".py",
   "mimetype": "text/x-python",
   "name": "python",
   "nbconvert_exporter": "python",
   "pygments_lexer": "ipython3",
   "version": "3.13.5"
  }
 },
 "nbformat": 4,
 "nbformat_minor": 5
}
